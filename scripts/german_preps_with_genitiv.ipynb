{
 "cells": [
  {
   "cell_type": "code",
   "execution_count": 1,
   "id": "eaa70c07",
   "metadata": {},
   "outputs": [],
   "source": [
    "import spacy\n",
    "import re\n",
    "import csv\n",
    "from datetime import datetime, date, time\n",
    "from spacy.tokens import Span\n",
    "from spacy import displacy"
   ]
  },
  {
   "cell_type": "code",
   "execution_count": 2,
   "id": "720ab427",
   "metadata": {},
   "outputs": [],
   "source": [
    "from cut_pp import cut_pp\n",
    "from cut_noun_phrases import cut_noun_phrases\n",
    "from make_span_list import make_span_list\n",
    "from define_structure import define_structure\n",
    "from case_for_simplified_structure import case_for_simplified_structure\n",
    "from find_case_final import find_case_final"
   ]
  },
  {
   "cell_type": "code",
   "execution_count": 3,
   "id": "1254c8f1",
   "metadata": {},
   "outputs": [],
   "source": [
    "nlp = spacy.load(\"de_core_news_lg\")"
   ]
  },
  {
   "cell_type": "code",
   "execution_count": 4,
   "id": "3ecd18db",
   "metadata": {},
   "outputs": [],
   "source": [
    "filename = \"input_files/wegen_dereko_1990-2020.txt\"\n",
    "file = open(filename, \"r\").read()"
   ]
  },
  {
   "cell_type": "code",
   "execution_count": 5,
   "id": "48b02478",
   "metadata": {},
   "outputs": [],
   "source": [
    "korpus = \"dereko_1990-2020\""
   ]
  },
  {
   "cell_type": "code",
   "execution_count": 9,
   "id": "d63aa143",
   "metadata": {},
   "outputs": [
    {
     "name": "stdout",
     "output_type": "stream",
     "text": [
      "19999\n",
      "Was tun? Ihn beim Ballverteilen zu stören, ist wegen der Technik des 33-Jährigen eine schwierige Aufgabe. Klüger ist es deshalb, die Adressaten von Ze Robertos Pässen eng zu decken. Dann muss er selbst aufs Tor zusteuern, das er immer noch eher selten trifft. (HAZ07/AUG.01851 Hannoversche Allgemeine, 25.08.2007, S. 27; Gegenmittel gesucht)\n"
     ]
    }
   ],
   "source": [
    "text_splitted = file.split(\"\\n\")"
   ]
  },
  {
   "cell_type": "code",
   "execution_count": 10,
   "id": "82350a57",
   "metadata": {},
   "outputs": [
    {
     "name": "stdout",
     "output_type": "stream",
     "text": [
      "['whole span', 'phrase', 'case_final', 'structure', 'head', 'noun', 'remark', 'flag_von', 'number', 'gender', 'source', 'paragraph']\n"
     ]
    }
   ],
   "source": [
    "dirname = \"output_files/\"\n",
    "prep = \"wegen\"\n",
    "name_csv = dirname + prep + '_' + korpus + \"_\" + str(datetime.today())[:10] +'.csv'\n",
    "row = [\"whole span\", \"phrase\" , \"case_final\", \"structure\" , \"head\", \"noun\", \"remark\", \"flag_von\", \"number\", \"gender\", \"source\" , \"paragraph\"]"
   ]
  },
  {
   "cell_type": "code",
   "execution_count": 11,
   "id": "77ef4b03",
   "metadata": {},
   "outputs": [
    {
     "name": "stdout",
     "output_type": "stream",
     "text": [
      "CPU times: user 1min 19s, sys: 19 s, total: 1min 38s\n",
      "Wall time: 1min 38s\n"
     ]
    }
   ],
   "source": [
    "docs = list(nlp.pipe(text_splitted))"
   ]
  },
  {
   "cell_type": "code",
   "execution_count": 13,
   "id": "c09d0bf8",
   "metadata": {
    "scrolled": false
   },
   "outputs": [
    {
     "name": "stdout",
     "output_type": "stream",
     "text": [
      "no nouns? -  {20: ['Kaschmir', 'Kaschmir', [], ['Neut'], [], '']} wegen Kaschmir\n",
      "no nouns? -  {51: ['Merkel', 'Merkel', [], [], [], '']} wegen Merkel\n",
      "cannot create span list -  HSV-Zoff! Stoppen die Fans den Ballack-Deal? Die Anhänger erzwingen außerordentliche Mitgliederversammlung wegen Investor Kühne (HMP10/JUN.01679 Hamburger Morgenpost, 16.06.2010, S. S52; HSV-Zoff! Stoppen die Fans den Ballack-Deal? Die Anhänger erzwingen außerordentliche Mitgliederversammlung wegen Investor Kühne)\n",
      "cannot create span list -  Verurteilt wegen Missbrauchs (M08/AUG.63515 Mannheimer Morgen, 15.08.2008, S. 1;)\n",
      "cannot create span list -  Ilvesheim: Landtagspräsident schreibt an Minister wegen L 597 (M14/SEP.03687 Mannheimer Morgen, 12.09.2014, S. 24; Wolf: Mit vereinten Kräften Projekt verwirklichen)\n",
      "no nouns? -  {128: ['Hartz', 'Hartz', [], [], [], '']} wegen Hartz\n",
      "cannot create span list -  Die Freundin am Valentinstag nicht zu beschenken, kann böse enden: Eine 27-Jährige aus Blaustein (Baden-Württemberg) war mangels eines Geschenks so enttäuscht, dass sie mit einem Messer auf ihren Partner losging. Der 33-Jährige konnte die Attacke abwehren und seine Freundin in ein Zimmer drängen. Als sie ihn später erneut angriff, schloss er sich in einem Zimmer ein und rief die Polizei. Die Frau erwartet nun eine Anzeige wegen versuchter Körperverletzung.dpa (NUN14/FEB.02004 Nürnberger Nachrichten, 17.02.2014, S. 31; Kurz berichtet)\n",
      "lost nouns!  wegen (NUZ10/\n",
      "no nouns? -  {3: ['Euro', 'Euro', [], ['Masc'], [], '']} wegen drei Euro\n",
      "cannot create span list -  Kalchreuth: Ockert, Dotzler, Escherich, Strassgürtel, Saft, Mircetic, Sirvent, Somann, Fuchs, Wurzbacher, Schmidt (Einwechselspieler: Worst, Maussner) / Eibach: Correll, Dörsch, Hofmann, Veit, Drechsler, Deinhard, Künzel, Bley, Schröter, A. Kißkalt, Messingschlager (Einwechselspieler: D. Kißkalt, Ammon, Kohler) / SRin: Krause (SpVgg Hüttenbach) / Zuschauer: 90 / Gelb-Rote Karte: Mircetic (Kalchreuth) wegen Foulspiels und Reklamierens (74.). (NUZ13/APR.00606 Nürnberger Zeitung, 08.04.2013, S. 26; Keine Tore im Kreisliga-Topspiel zwischen Kalchreuth und DJK)\n",
      "cannot create span list -  verletzt.Die Kripoermittelt wegen schweren Diebstahls. Außerdem wird der Mann wegen Widerstandes (NUZ14/NOV.01632 Nürnberger Zeitung, 21.11.2014, S. 13; gh Polizei-Protokoll)\n",
      "no nouns? -  {110: ['Mark', 'Mark', [], ['Fem'], [], '']} wegen fehlender 300 000 Mark\n",
      "no nouns? -  {39: ['Euro', 'Euro', [], ['Masc'], [], '']} wegen 100 Euro\n",
      "no nouns? -  {132: ['Mark', 'Mark', [], ['Fem'], [], '']} wegen zehn Mark\n",
      "no nouns? -  {14: ['Euro', 'Euro', [], ['Masc'], [], '']} wegen 1,30 Euro\n",
      "no nouns? -  {12: ['Mark', 'Mark', [], ['Fem'], [], '']} wegen 2000 Mark\n",
      "no nouns? -  {93: ['Prozent', 'Prozent', [], ['Neut'], [], '']} wegen zehn Prozent\n",
      "no nouns? -  {41: ['Dutzend', 'Dutzend', [], ['Neut'], [], '']} wegen paar Dutzend\n",
      "lost nouns!  wegen 23.bxa5 Txa5 24. Tb1.)\n",
      "no nouns? -  {85: ['Euro', 'Euro', [], ['Masc'], [], '']} wegen 200 Euro\n",
      "cannot create span list -  Bancé pausiert wegen Kniereizung (RHZ10/JUN.04716 Rhein-Zeitung, 24.06.2010; Mainz 05 Bancé pausiert wegen...)\n",
      "lost nouns!  wegen 3.Kg1 Txg2+ 4.Kf1\n",
      "cannot create span list -  Darunter z.B. auch die Kritiken, die der ANC an Israel wegen der andauernden Besatzung und Abschottung Palistinas und zuletzt wegen des GAZA-Krieges (http://www.anc.org.za/show.php?doc=ancdocs/pr/2009/pr0106a.html) ausgeübt hat. 88.65.186.241 00:47, 22. Jan. 2010 (CET) (WDD11/A19.03525: Diskussion:African National Congress, In: Wikipedia - URL:http://de.wikipedia.org/wiki/Diskussion:African_National_Congress: Wikipedia, 2011)\n",
      "lost nouns!  wegen \"zweiminütig\"/\"zwei-minütig\" (WDD11/B09.99083:\n",
      "no nouns? -  {12: ['Euro', 'Euro', [], ['Masc'], [], '']} wegen 1,30 Euro\n",
      "no nouns? -  {12: ['Bad', 'Bad', [], ['Neut'], [], '']} wegen dem \"Bad\n",
      "cannot create span list -  5) Diese herausragende Qualität von Douglas-Hills Glasuren und Formen erreichte im letzten Drittel der dreissiger Jahre ihren Höhepunkt, wie auch die 1937 im demokratischen Frankreich errungene Goldmedaille der Pariser Weltausstellung unterstreicht. In Paris wurde eine große Anzahl deutscher Keramiker - nicht wegen, sondern trotz des NS - ausgezeichnet. Vielen Künstlern mit Berufsverbot wie Richard Haizmann und Otto Hofmann, aber auch Jan Bontjes van Beek, dessen Tochter Cato später als widerstandskämpferin hingerichtet wurde, bot die Keramik eine Überlebensnische, da \"entartete Vasen und Schalen\" für die braunen Ideologen schwer zu definieren waren. So erklärt es sich, dass die deutsche Keramik vor allem nach 1933 eine führende Position in Europa innehatte und sich nicht, wie häufig behauptet, auf Entwürfe lehmbrauner Suppenteller für Eintopfsonntage beschränkte! (WDD11/O31.89492: Diskussion:Otto Douglas Douglas-Hill, In: Wikipedia - URL:http://de.wikipedia.org/wiki/Diskussion:Otto_Douglas_Douglas-Hill: Wikipedia, 2011)\n",
      "lost nouns!  wegen folgender Punkte:<br/> (WDD11/T52.26745\n",
      "no nouns? -  {85: ['or', 'or', [], [], [], ''], 86: ['bardic', 'bardic', [], [], [], ''], 87: ['remains', 'remains', [], [], [], ''], 88: ['of', 'of', [], [], [], ''], 89: ['Ireland', 'Ireland', [], [], [], '']} , or bardic remains of Ireland\n",
      "lost nouns!  wegen ihrer finanziellen Nöte.(Clinton, S. 202\n",
      "lost nouns!  wegen: (WPD11/J01.86401\n",
      "no nouns? -  {16: ['Group', 'Group', [], [], [], ''], 17: ['Areas', 'Areas', [], [], [], ''], 18: ['Act', 'Act', [], [], [], '']} wegen des Group Areas Act\n",
      "cannot create span list -  Prozess wegen Beleidigung ehemaliger Wehrmacht- und Bundeswehrgenerale (WPD11/L14.32155: Lorenz Knorr, In: Wikipedia - URL:http://de.wikipedia.org/wiki/Lorenz_Knorr: Wikipedia, 2011)\n",
      "lost nouns!  wegen seiner Tantiemen.(About.com\n",
      "lost nouns!  wegen der (WPD11/V02.76725\n",
      "cannot create span list -  Verein weiter in Sorge wegen Rümmelsheim II (RHZ14/APR.15868 Rhein-Zeitung, 15.04.2014, S. 14; Verein weiter in Sorge wegen Rümmelsheim II)\n",
      "no nouns? -  {9: ['<', '<', [], [], [], ''], 10: ['p', 'p', [], [], [], '']} wegen des <p\n",
      "cannot create span list -  Wilhelmsburg Mehmet Y. soll im Bus zugestochen haben. Nun kam er frei - wegen Überlastung des Gerichts (HMP15/OKT.01087 Hamburger Morgenpost, 14.10.2015, S. 8; Mutmaßlicher Messerstecher freigelassen)\n",
      "lost nouns!  wegen der [...] religiösen, weltanschaulichen oder [...\n",
      "cannot create span list -  wegen Feuerwerkskörpern (NUZ15/FEB.02231 Nürnberger Zeitung, 27.02.2015, S. 4; kurZNotiert)\n",
      "cannot create span list -  Anklage gegen Brüterei wegen massenhafter Küken-Tötungen (NKU16/FEB.03234 Nordkurier, 15.02.2016, S. 6; Anklage gegen Brüterei wegen massenhafter Küken-Tötungen)\n",
      "cannot create span list -  SG Feldkirchen/Hüllenberg - SV Fortuna Nauort 0:2 (0:1). Der Nauorter Trainer Olaf Klee war voll des Lobes für sein Team: „Das war kämpferisch überragend.“ Feldkirchens Coach Dirk Schröder war hingegen bedient: „Das war kein gutes Spiel von uns. Wir hätten wahrscheinlich noch 120 Minuten spielen können, ohne ein Tor zu schießen.“ Tore: 0:1, 0:2 Mathias Tries (19., 60.). Gelb-Rote Karten: Mathias Tries (Nauort) wegen wiederholten Foulspiels (63.), Marc Schuster (Feldkirchen) wegen Meckerns und Schwalbe (85.), Stephan Weber (Nauort) wegen Foulspiels und Meckerns (90.). Zuschauer: 80. (RHZ16/MAR.20564 Rhein-Zeitung, 21.03.2016, S. 28; Die frühe Führung beflügelt Spitzenreiter Spvgg Steinefrenz)\n",
      "no nouns? -  {40: ['Euro', 'Euro', [], ['Masc'], [], '']} wegen 12 Euro\n",
      "cannot create span list -  Weihnachtsschiff entfällt wegen Bauarbeiten (RHZ16/OKT.16575 Rhein-Zeitung, 18.10.2016, S. 16; Weihnachtsschiff entfällt wegen Bauarbeiten)\n",
      "cannot create span list -  Ärger wegen Hofer-Mails (U16/NOV.03434 Süddeutsche Zeitung, 25.11.2016, S. 6; NACHRICHTEN)\n",
      "lost nouns!  wegen der S.\n",
      "cannot create span list -  Aufgabe wegen einer nicht zu stillenden Platzwunde (SOL06/DEZ.00350 Spiegel-Online, 05.12.2006; Meister der triefenden Wunde)\n",
      "no nouns? -  {5: ['Hartz', 'Hartz', [], [], [], '']} wegen Hartz\n",
      "no nouns? -  {7: ['Erbverbindungen', 'Erbverbindungen', ['Gen'], ['Fem'], ['Plur'], ''], 10: ['The', 'The', [], [], [], '']} wegen der Erbverbindungen nur \"The\n",
      "no nouns? -  {65: ['Mark', 'Mark', [], ['Fem'], [], '']} wegen weniger Tausend Mark\n",
      "cannot create span list -  Einsturz-Ursache bislang ungeklärt / Staatsanwaltschaft ermittelt wegen fahrlässiger Tötung (L06/JAN.00217 Berliner Morgenpost, 04.01.2006, S. 1; Bad Reichenhall - Wer hat schuld an der Katastrophe?)\n",
      "cannot create span list -  Strafanzeige wegen Volksverhetzung (L07/DEZ.04353 Berliner Morgenpost, 28.12.2007, S. 21; Strafanzeige wegen Volksverhetzung)\n",
      "cannot create span list -  Streit in Unions-Vorstand wegen Gorleben-Plänen (L10/MAR.03278 Berliner Morgenpost, 21.03.2010, S. 2; Grüne: Trittin nimmt Montag die Amtsgeschäfte wieder auf)\n",
      "cannot create span list -  Weniger Hering in der Ostsee wegen fehlendem Nachwuchs  (L10/AUG.03637 Berliner Morgenpost, 24.08.2010, S. 7; Fische 1: Genetisch veränderter Lachs vor der Zulassung in den USA)\n"
     ]
    },
    {
     "name": "stdout",
     "output_type": "stream",
     "text": [
      "cannot create span list -  Rückruf in China wegen fehlerhafter Airbags  (L17/SEP.01430 Berliner Morgenpost, 15.09.2017, S. 6; Nachrichten)\n",
      "cannot create span list -  Siedler-Kinder in Haft wegen Anschlags (B12/AUG.02626 Berliner Zeitung, 28.08.2012, S. 6; NACHRICHTEN)\n",
      "no nouns? -  {116: ['Trust', 'Trust', [], [], [], '']} 'Trust\n",
      "cannot create span list -  Oberkommissar manipulierte Bericht. Ermittlungen wegen Urkunden-Fälschung (HMP17/MAI.01373 Hamburger Morgenpost, 19.05.2017, S. 4; So wollte das LKA den Skandal vertuschen)\n",
      "cannot create span list -  Kurseinbruch an Mailänder Börse wegen Politkrise (B18/MAI.02108 Berliner Zeitung, 30.05.2018, S. 7; US-Behörden stimmen Monsanto-Übernahme zu)\n",
      "cannot create span list -  Nicaragua: EU besorgt wegen zunehmender Gewalt (M18/JUL.03837 Mannheimer Morgen, 17.07.2018, S. 4; Tote bei Protesten)\n",
      "cannot create span list -  Mehr Sozialtickets wegen Modellstadt (M18/DEZ.06409 Mannheimer Morgen, 27.12.2018, S. 9; Mehr Sozialtickets wegen Modellstadt)\n",
      "cannot create span list -  Dommuseum Magdeburg schlie?t wegen neuer Objekte (HAZ19/FEB.02235 Hannoversche Allgemeine, 18.02.2019, S. 23; Dommuseum Magdeburg schlieÃt wegen neuer Objekte)\n",
      "cannot create span list -  Ausfälle wegen Streik der Flugbegleiter (HAZ19/NOV.00758 Hannoversche Allgemeine, 07.11.2019, S. 1; Lufthansa streicht Flüge ab Hannover)\n",
      "no nouns? -  {44: ['Cars', 'Cars', [], [], [], '']} wegen eines späten Safety Cars\n",
      " i =  11651\n",
      "CPU times: user 3.93 s, sys: 82.6 ms, total: 4.01 s\n",
      "Wall time: 4.01 s\n"
     ]
    }
   ],
   "source": [
    "%%time\n",
    "prep = \"wegen\"\n",
    "with open(name_csv, 'w') as f:\n",
    "    writer = csv.writer(f, delimiter='#')\n",
    "    writer.writerow(row)    \n",
    "    for doc in docs:\n",
    "        if doc: \n",
    "            quelle = doc.text.split(\"(\")[-1]\n",
    "            quelle_short = re.findall(r\"([A-Z]{1,3})[0-9]{,2}/\", quelle)\n",
    "            flag_von = 0\n",
    "            find_von = re.findall(\"[Vv]on wegen\", doc.text) \n",
    "            if len(find_von) > 0:\n",
    "                flag_von = 1\n",
    "                continue\n",
    "            num = 0\n",
    "            for token in doc:\n",
    "                if token.lemma_ == prep:\n",
    "                    span =  doc[token.left_edge.i : token.right_edge.i+1]\n",
    "                    head = token.head.lemma_\n",
    "                    phrase = span.text\n",
    "                    \n",
    "                    if len(phrase) > 0:\n",
    "                        remark = \"\"\n",
    "                        # сбор информации про структуру спана\n",
    "                        nouns, adjs, articles, short_span, structure, remark, number, gender, lemma_vs_token = define_structure(span, remark, prep)\n",
    "                        find_case_final(structure, nouns, adjs, articles, short_span, doc, prep, writer, head, remark, number, gender, lemma_vs_token, flag_von, quelle_short)\n",
    "                    i += 1"
   ]
  },
  {
   "cell_type": "code",
   "execution_count": null,
   "id": "412c57e3",
   "metadata": {},
   "outputs": [],
   "source": []
  }
 ],
 "metadata": {
  "kernelspec": {
   "display_name": "sh-env",
   "language": "python",
   "name": "sh-env"
  },
  "language_info": {
   "codemirror_mode": {
    "name": "ipython",
    "version": 3
   },
   "file_extension": ".py",
   "mimetype": "text/x-python",
   "name": "python",
   "nbconvert_exporter": "python",
   "pygments_lexer": "ipython3",
   "version": "3.7.3"
  }
 },
 "nbformat": 4,
 "nbformat_minor": 5
}
