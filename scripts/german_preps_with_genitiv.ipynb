{
 "cells": [
  {
   "cell_type": "code",
   "execution_count": 1,
   "id": "eaa70c07",
   "metadata": {},
   "outputs": [],
   "source": [
    "import spacy\n",
    "import re\n",
    "import csv\n",
    "from datetime import datetime, date, time\n",
    "from spacy.tokens import Span\n",
    "from spacy import displacy"
   ]
  },
  {
   "cell_type": "code",
   "execution_count": 2,
   "id": "720ab427",
   "metadata": {},
   "outputs": [],
   "source": [
    "from cut_pp import cut_pp\n",
    "from cut_noun_phrases import cut_noun_phrases\n",
    "from make_span_list import make_span_list\n",
    "from define_structure import define_structure\n",
    "from case_for_simplified_structure import case_for_simplified_structure\n",
    "from find_case_final import find_case_final"
   ]
  },
  {
   "cell_type": "code",
   "execution_count": 3,
   "id": "1254c8f1",
   "metadata": {},
   "outputs": [],
   "source": [
    "nlp = spacy.load(\"de_core_news_lg\")"
   ]
  },
  {
   "cell_type": "code",
   "execution_count": 4,
   "id": "3ecd18db",
   "metadata": {},
   "outputs": [],
   "source": [
    "filename = \"input_files/wegen_dereko_1990-2020.txt\"\n",
    "file = open(filename, \"r\").read()"
   ]
  },
  {
   "cell_type": "code",
   "execution_count": 5,
   "id": "48b02478",
   "metadata": {},
   "outputs": [],
   "source": [
    "korpus = \"dereko_1990-2020\""
   ]
  },
  {
   "cell_type": "code",
   "execution_count": 9,
   "id": "d63aa143",
   "metadata": {},
   "outputs": [
    {
     "name": "stdout",
     "output_type": "stream",
     "text": [
      "19999\n",
      "Was tun? Ihn beim Ballverteilen zu stören, ist wegen der Technik des 33-Jährigen eine schwierige Aufgabe. Klüger ist es deshalb, die Adressaten von Ze Robertos Pässen eng zu decken. Dann muss er selbst aufs Tor zusteuern, das er immer noch eher selten trifft. (HAZ07/AUG.01851 Hannoversche Allgemeine, 25.08.2007, S. 27; Gegenmittel gesucht)\n"
     ]
    }
   ],
   "source": [
    "text_splitted = file.split(\"\\n\")"
   ]
  },
  {
   "cell_type": "code",
   "execution_count": 10,
   "id": "82350a57",
   "metadata": {},
   "outputs": [
    {
     "name": "stdout",
     "output_type": "stream",
     "text": [
      "['whole span', 'phrase', 'case_final', 'structure', 'head', 'noun', 'remark', 'flag_von', 'number', 'gender', 'source', 'paragraph']\n"
     ]
    }
   ],
   "source": [
    "dirname = \"output_files/\"\n",
    "prep = \"wegen\"\n",
    "name_csv = dirname + prep + '_' + korpus + \"_\" + str(datetime.today())[:10] +'.csv'\n",
    "row = [\"whole span\", \"phrase\" , \"case_final\", \"structure\" , \"head\", \"noun\", \"remark\", \"flag_von\", \"number\", \"gender\", \"source\" , \"paragraph\"]"
   ]
  },
  {
   "cell_type": "code",
   "execution_count": 11,
   "id": "77ef4b03",
   "metadata": {},
   "outputs": [
    {
     "name": "stdout",
     "output_type": "stream",
     "text": [
      "CPU times: user 1min 19s, sys: 19 s, total: 1min 38s\n",
      "Wall time: 1min 38s\n"
     ]
    }
   ],
   "source": [
    "docs = list(nlp.pipe(text_splitted))"
   ]
  },
  {
   "cell_type": "code",
   "execution_count": 13,
   "id": "c09d0bf8",
   "metadata": {
    "scrolled": false
   },
   "outputs": [
   ],
   "source": [
    "%%time\n",
    "prep = \"wegen\"\n",
    "with open(name_csv, 'w') as f:\n",
    "    writer = csv.writer(f, delimiter='#')\n",
    "    writer.writerow(row)    \n",
    "    for doc in docs:\n",
    "        if doc: \n",
    "            quelle = doc.text.split(\"(\")[-1]\n",
    "            quelle_short = re.findall(r\"([A-Z]{1,3})[0-9]{,2}/\", quelle)\n",
    "            flag_von = 0\n",
    "            find_von = re.findall(\"[Vv]on wegen\", doc.text) \n",
    "            if len(find_von) > 0:\n",
    "                flag_von = 1\n",
    "                continue\n",
    "            num = 0\n",
    "            for token in doc:\n",
    "                if token.lemma_ == prep:\n",
    "                    span =  doc[token.left_edge.i : token.right_edge.i+1]\n",
    "                    head = token.head.lemma_\n",
    "                    phrase = span.text\n",
    "                    \n",
    "                    if len(phrase) > 0:\n",
    "                        remark = \"\"\n",
    "                        # сбор информации про структуру спана\n",
    "                        nouns, adjs, articles, short_span, structure, remark, number, gender, lemma_vs_token = define_structure(span, remark, prep)\n",
    "                        find_case_final(structure, nouns, adjs, articles, short_span, doc, prep, writer, head, remark, number, gender, lemma_vs_token, flag_von, quelle_short)\n",
    "                    i += 1"
   ]
  },
  {
   "cell_type": "code",
   "execution_count": null,
   "id": "412c57e3",
   "metadata": {},
   "outputs": [],
   "source": []
  }
 ],
 "metadata": {
  "kernelspec": {
   "display_name": "sh-env",
   "language": "python",
   "name": "sh-env"
  },
  "language_info": {
   "codemirror_mode": {
    "name": "ipython",
    "version": 3
   },
   "file_extension": ".py",
   "mimetype": "text/x-python",
   "name": "python",
   "nbconvert_exporter": "python",
   "pygments_lexer": "ipython3",
   "version": "3.7.3"
  }
 },
 "nbformat": 4,
 "nbformat_minor": 5
}
